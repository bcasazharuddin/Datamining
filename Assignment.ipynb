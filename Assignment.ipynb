{
  "nbformat": 4,
  "nbformat_minor": 0,
  "metadata": {
    "colab": {
      "name": "Assignment.ipynb",
      "provenance": [],
      "collapsed_sections": [],
      "authorship_tag": "ABX9TyOSPxonsfkDrUidc2uzQG+P",
      "include_colab_link": true
    },
    "kernelspec": {
      "name": "python3",
      "display_name": "Python 3"
    },
    "language_info": {
      "name": "python"
    }
  },
  "cells": [
    {
      "cell_type": "markdown",
      "metadata": {
        "id": "view-in-github",
        "colab_type": "text"
      },
      "source": [
        "<a href=\"https://colab.research.google.com/github/bcasazharuddin/Datamining/blob/main/Assignment.ipynb\" target=\"_parent\"><img src=\"https://colab.research.google.com/assets/colab-badge.svg\" alt=\"Open In Colab\"/></a>"
      ]
    },
    {
      "cell_type": "markdown",
      "metadata": {
        "id": "R1OUz1H3ZGJZ"
      },
      "source": [
        "## **Assignment 1 :** Take a classification problem/dataset of your choice and then compare the performance of three models namely Decision Tree  , k-NN, and Bayesian classifier over the selected task. \n",
        "     "
      ]
    },
    {
      "cell_type": "code",
      "metadata": {
        "id": "I4Q8NLLrafqZ"
      },
      "source": [
        "#import libraries\n",
        "import numpy as np\n",
        "import pandas as pd\n",
        "import matplotlib.pyplot as plt\n",
        "#label encoders\n",
        "from sklearn import preprocessing\n",
        "from sklearn.model_selection import train_test_split\n",
        "from sklearn.tree import DecisionTreeClassifier\n",
        "from sklearn import metrics\n",
        "from sklearn.neighbors import KNeighborsClassifier\n",
        "from sklearn.linear_model import LogisticRegression\n",
        "from sklearn.metrics import confusion_matrix\n",
        "import math\n",
        "from sklearn import naive_bayes\n",
        "from sklearn.preprocessing import OneHotEncoder, LabelEncoder,StandardScaler\n",
        "from sklearn.tree import plot_tree\n"
      ],
      "execution_count": 53,
      "outputs": []
    },
    {
      "cell_type": "markdown",
      "metadata": {
        "id": "ltkboXysa_J9"
      },
      "source": [
        "# **Load DataSet**"
      ]
    },
    {
      "cell_type": "code",
      "metadata": {
        "colab": {
          "base_uri": "https://localhost:8080/",
          "height": 400
        },
        "id": "nv8ZzlbWbJ6G",
        "outputId": "bf0b691c-1d9d-43e8-f98a-0b4d0dc53953"
      },
      "source": [
        "df = pd.read_csv('https://raw.githubusercontent.com/bcasazharuddin/Datamining/main/income_evaluation.csv')\n",
        "df.head()"
      ],
      "execution_count": 29,
      "outputs": [
        {
          "output_type": "execute_result",
          "data": {
            "text/html": [
              "<div>\n",
              "<style scoped>\n",
              "    .dataframe tbody tr th:only-of-type {\n",
              "        vertical-align: middle;\n",
              "    }\n",
              "\n",
              "    .dataframe tbody tr th {\n",
              "        vertical-align: top;\n",
              "    }\n",
              "\n",
              "    .dataframe thead th {\n",
              "        text-align: right;\n",
              "    }\n",
              "</style>\n",
              "<table border=\"1\" class=\"dataframe\">\n",
              "  <thead>\n",
              "    <tr style=\"text-align: right;\">\n",
              "      <th></th>\n",
              "      <th>age</th>\n",
              "      <th>workclass</th>\n",
              "      <th>fnlwgt</th>\n",
              "      <th>education</th>\n",
              "      <th>education-num</th>\n",
              "      <th>marital-status</th>\n",
              "      <th>occupation</th>\n",
              "      <th>relationship</th>\n",
              "      <th>race</th>\n",
              "      <th>sex</th>\n",
              "      <th>capital-gain</th>\n",
              "      <th>capital-loss</th>\n",
              "      <th>hours-per-week</th>\n",
              "      <th>native-country</th>\n",
              "      <th>income</th>\n",
              "    </tr>\n",
              "  </thead>\n",
              "  <tbody>\n",
              "    <tr>\n",
              "      <th>0</th>\n",
              "      <td>39</td>\n",
              "      <td>State-gov</td>\n",
              "      <td>77516</td>\n",
              "      <td>Bachelors</td>\n",
              "      <td>13</td>\n",
              "      <td>Never-married</td>\n",
              "      <td>Adm-clerical</td>\n",
              "      <td>Not-in-family</td>\n",
              "      <td>White</td>\n",
              "      <td>Male</td>\n",
              "      <td>2174</td>\n",
              "      <td>0</td>\n",
              "      <td>40</td>\n",
              "      <td>United-States</td>\n",
              "      <td>&lt;=50K</td>\n",
              "    </tr>\n",
              "    <tr>\n",
              "      <th>1</th>\n",
              "      <td>50</td>\n",
              "      <td>Self-emp-not-inc</td>\n",
              "      <td>83311</td>\n",
              "      <td>Bachelors</td>\n",
              "      <td>13</td>\n",
              "      <td>Married-civ-spouse</td>\n",
              "      <td>Exec-managerial</td>\n",
              "      <td>Husband</td>\n",
              "      <td>White</td>\n",
              "      <td>Male</td>\n",
              "      <td>0</td>\n",
              "      <td>0</td>\n",
              "      <td>13</td>\n",
              "      <td>United-States</td>\n",
              "      <td>&lt;=50K</td>\n",
              "    </tr>\n",
              "    <tr>\n",
              "      <th>2</th>\n",
              "      <td>38</td>\n",
              "      <td>Private</td>\n",
              "      <td>215646</td>\n",
              "      <td>HS-grad</td>\n",
              "      <td>9</td>\n",
              "      <td>Divorced</td>\n",
              "      <td>Handlers-cleaners</td>\n",
              "      <td>Not-in-family</td>\n",
              "      <td>White</td>\n",
              "      <td>Male</td>\n",
              "      <td>0</td>\n",
              "      <td>0</td>\n",
              "      <td>40</td>\n",
              "      <td>United-States</td>\n",
              "      <td>&lt;=50K</td>\n",
              "    </tr>\n",
              "    <tr>\n",
              "      <th>3</th>\n",
              "      <td>53</td>\n",
              "      <td>Private</td>\n",
              "      <td>234721</td>\n",
              "      <td>11th</td>\n",
              "      <td>7</td>\n",
              "      <td>Married-civ-spouse</td>\n",
              "      <td>Handlers-cleaners</td>\n",
              "      <td>Husband</td>\n",
              "      <td>Black</td>\n",
              "      <td>Male</td>\n",
              "      <td>0</td>\n",
              "      <td>0</td>\n",
              "      <td>40</td>\n",
              "      <td>United-States</td>\n",
              "      <td>&lt;=50K</td>\n",
              "    </tr>\n",
              "    <tr>\n",
              "      <th>4</th>\n",
              "      <td>28</td>\n",
              "      <td>Private</td>\n",
              "      <td>338409</td>\n",
              "      <td>Bachelors</td>\n",
              "      <td>13</td>\n",
              "      <td>Married-civ-spouse</td>\n",
              "      <td>Prof-specialty</td>\n",
              "      <td>Wife</td>\n",
              "      <td>Black</td>\n",
              "      <td>Female</td>\n",
              "      <td>0</td>\n",
              "      <td>0</td>\n",
              "      <td>40</td>\n",
              "      <td>Cuba</td>\n",
              "      <td>&lt;=50K</td>\n",
              "    </tr>\n",
              "  </tbody>\n",
              "</table>\n",
              "</div>"
            ],
            "text/plain": [
              "   age          workclass   fnlwgt  ...  hours-per-week   native-country  income\n",
              "0   39          State-gov    77516  ...              40    United-States   <=50K\n",
              "1   50   Self-emp-not-inc    83311  ...              13    United-States   <=50K\n",
              "2   38            Private   215646  ...              40    United-States   <=50K\n",
              "3   53            Private   234721  ...              40    United-States   <=50K\n",
              "4   28            Private   338409  ...              40             Cuba   <=50K\n",
              "\n",
              "[5 rows x 15 columns]"
            ]
          },
          "metadata": {},
          "execution_count": 29
        }
      ]
    },
    {
      "cell_type": "code",
      "metadata": {
        "colab": {
          "base_uri": "https://localhost:8080/"
        },
        "id": "Ai-J-ElWk16C",
        "outputId": "f465d8ee-01b0-4711-c64b-51af26c61d2c"
      },
      "source": [
        "#check out the data set\n",
        "df.shape"
      ],
      "execution_count": 30,
      "outputs": [
        {
          "output_type": "execute_result",
          "data": {
            "text/plain": [
              "(32561, 15)"
            ]
          },
          "metadata": {},
          "execution_count": 30
        }
      ]
    },
    {
      "cell_type": "code",
      "metadata": {
        "colab": {
          "base_uri": "https://localhost:8080/"
        },
        "id": "0PIGgSIhlKjv",
        "outputId": "054db8cb-404f-42dd-88e6-b280e5a80d2c"
      },
      "source": [
        "#Dataset information\n",
        "df.info()"
      ],
      "execution_count": 31,
      "outputs": [
        {
          "output_type": "stream",
          "name": "stdout",
          "text": [
            "<class 'pandas.core.frame.DataFrame'>\n",
            "RangeIndex: 32561 entries, 0 to 32560\n",
            "Data columns (total 15 columns):\n",
            " #   Column           Non-Null Count  Dtype \n",
            "---  ------           --------------  ----- \n",
            " 0   age              32561 non-null  int64 \n",
            " 1    workclass       32561 non-null  object\n",
            " 2    fnlwgt          32561 non-null  int64 \n",
            " 3    education       32561 non-null  object\n",
            " 4    education-num   32561 non-null  int64 \n",
            " 5    marital-status  32561 non-null  object\n",
            " 6    occupation      32561 non-null  object\n",
            " 7    relationship    32561 non-null  object\n",
            " 8    race            32561 non-null  object\n",
            " 9    sex             32561 non-null  object\n",
            " 10   capital-gain    32561 non-null  int64 \n",
            " 11   capital-loss    32561 non-null  int64 \n",
            " 12   hours-per-week  32561 non-null  int64 \n",
            " 13   native-country  32561 non-null  object\n",
            " 14   income          32561 non-null  object\n",
            "dtypes: int64(6), object(9)\n",
            "memory usage: 3.7+ MB\n"
          ]
        }
      ]
    },
    {
      "cell_type": "code",
      "metadata": {
        "colab": {
          "base_uri": "https://localhost:8080/"
        },
        "id": "PC5Hoh-Tlit0",
        "outputId": "d9a9c984-2b83-4806-a278-5f29ee18f4fb"
      },
      "source": [
        "#Fixing the columns\n",
        "\n",
        "for x in df.columns:\n",
        "    x_new = x.strip()\n",
        "    df=df.rename(columns={x:x_new})\n",
        "\n",
        "df.columns"
      ],
      "execution_count": 32,
      "outputs": [
        {
          "output_type": "execute_result",
          "data": {
            "text/plain": [
              "Index(['age', 'workclass', 'fnlwgt', 'education', 'education-num',\n",
              "       'marital-status', 'occupation', 'relationship', 'race', 'sex',\n",
              "       'capital-gain', 'capital-loss', 'hours-per-week', 'native-country',\n",
              "       'income'],\n",
              "      dtype='object')"
            ]
          },
          "metadata": {},
          "execution_count": 32
        }
      ]
    },
    {
      "cell_type": "code",
      "metadata": {
        "colab": {
          "base_uri": "https://localhost:8080/",
          "height": 424
        },
        "id": "7ASLwUqxmJp-",
        "outputId": "7c488f6f-c349-4959-c86f-010929680d64"
      },
      "source": [
        "data = df.drop([\"fnlwgt\",\"capital-gain\",\"capital-loss\",\"native-country\"],axis=1)\n",
        "data"
      ],
      "execution_count": 33,
      "outputs": [
        {
          "output_type": "execute_result",
          "data": {
            "text/html": [
              "<div>\n",
              "<style scoped>\n",
              "    .dataframe tbody tr th:only-of-type {\n",
              "        vertical-align: middle;\n",
              "    }\n",
              "\n",
              "    .dataframe tbody tr th {\n",
              "        vertical-align: top;\n",
              "    }\n",
              "\n",
              "    .dataframe thead th {\n",
              "        text-align: right;\n",
              "    }\n",
              "</style>\n",
              "<table border=\"1\" class=\"dataframe\">\n",
              "  <thead>\n",
              "    <tr style=\"text-align: right;\">\n",
              "      <th></th>\n",
              "      <th>age</th>\n",
              "      <th>workclass</th>\n",
              "      <th>education</th>\n",
              "      <th>education-num</th>\n",
              "      <th>marital-status</th>\n",
              "      <th>occupation</th>\n",
              "      <th>relationship</th>\n",
              "      <th>race</th>\n",
              "      <th>sex</th>\n",
              "      <th>hours-per-week</th>\n",
              "      <th>income</th>\n",
              "    </tr>\n",
              "  </thead>\n",
              "  <tbody>\n",
              "    <tr>\n",
              "      <th>0</th>\n",
              "      <td>39</td>\n",
              "      <td>State-gov</td>\n",
              "      <td>Bachelors</td>\n",
              "      <td>13</td>\n",
              "      <td>Never-married</td>\n",
              "      <td>Adm-clerical</td>\n",
              "      <td>Not-in-family</td>\n",
              "      <td>White</td>\n",
              "      <td>Male</td>\n",
              "      <td>40</td>\n",
              "      <td>&lt;=50K</td>\n",
              "    </tr>\n",
              "    <tr>\n",
              "      <th>1</th>\n",
              "      <td>50</td>\n",
              "      <td>Self-emp-not-inc</td>\n",
              "      <td>Bachelors</td>\n",
              "      <td>13</td>\n",
              "      <td>Married-civ-spouse</td>\n",
              "      <td>Exec-managerial</td>\n",
              "      <td>Husband</td>\n",
              "      <td>White</td>\n",
              "      <td>Male</td>\n",
              "      <td>13</td>\n",
              "      <td>&lt;=50K</td>\n",
              "    </tr>\n",
              "    <tr>\n",
              "      <th>2</th>\n",
              "      <td>38</td>\n",
              "      <td>Private</td>\n",
              "      <td>HS-grad</td>\n",
              "      <td>9</td>\n",
              "      <td>Divorced</td>\n",
              "      <td>Handlers-cleaners</td>\n",
              "      <td>Not-in-family</td>\n",
              "      <td>White</td>\n",
              "      <td>Male</td>\n",
              "      <td>40</td>\n",
              "      <td>&lt;=50K</td>\n",
              "    </tr>\n",
              "    <tr>\n",
              "      <th>3</th>\n",
              "      <td>53</td>\n",
              "      <td>Private</td>\n",
              "      <td>11th</td>\n",
              "      <td>7</td>\n",
              "      <td>Married-civ-spouse</td>\n",
              "      <td>Handlers-cleaners</td>\n",
              "      <td>Husband</td>\n",
              "      <td>Black</td>\n",
              "      <td>Male</td>\n",
              "      <td>40</td>\n",
              "      <td>&lt;=50K</td>\n",
              "    </tr>\n",
              "    <tr>\n",
              "      <th>4</th>\n",
              "      <td>28</td>\n",
              "      <td>Private</td>\n",
              "      <td>Bachelors</td>\n",
              "      <td>13</td>\n",
              "      <td>Married-civ-spouse</td>\n",
              "      <td>Prof-specialty</td>\n",
              "      <td>Wife</td>\n",
              "      <td>Black</td>\n",
              "      <td>Female</td>\n",
              "      <td>40</td>\n",
              "      <td>&lt;=50K</td>\n",
              "    </tr>\n",
              "    <tr>\n",
              "      <th>...</th>\n",
              "      <td>...</td>\n",
              "      <td>...</td>\n",
              "      <td>...</td>\n",
              "      <td>...</td>\n",
              "      <td>...</td>\n",
              "      <td>...</td>\n",
              "      <td>...</td>\n",
              "      <td>...</td>\n",
              "      <td>...</td>\n",
              "      <td>...</td>\n",
              "      <td>...</td>\n",
              "    </tr>\n",
              "    <tr>\n",
              "      <th>32556</th>\n",
              "      <td>27</td>\n",
              "      <td>Private</td>\n",
              "      <td>Assoc-acdm</td>\n",
              "      <td>12</td>\n",
              "      <td>Married-civ-spouse</td>\n",
              "      <td>Tech-support</td>\n",
              "      <td>Wife</td>\n",
              "      <td>White</td>\n",
              "      <td>Female</td>\n",
              "      <td>38</td>\n",
              "      <td>&lt;=50K</td>\n",
              "    </tr>\n",
              "    <tr>\n",
              "      <th>32557</th>\n",
              "      <td>40</td>\n",
              "      <td>Private</td>\n",
              "      <td>HS-grad</td>\n",
              "      <td>9</td>\n",
              "      <td>Married-civ-spouse</td>\n",
              "      <td>Machine-op-inspct</td>\n",
              "      <td>Husband</td>\n",
              "      <td>White</td>\n",
              "      <td>Male</td>\n",
              "      <td>40</td>\n",
              "      <td>&gt;50K</td>\n",
              "    </tr>\n",
              "    <tr>\n",
              "      <th>32558</th>\n",
              "      <td>58</td>\n",
              "      <td>Private</td>\n",
              "      <td>HS-grad</td>\n",
              "      <td>9</td>\n",
              "      <td>Widowed</td>\n",
              "      <td>Adm-clerical</td>\n",
              "      <td>Unmarried</td>\n",
              "      <td>White</td>\n",
              "      <td>Female</td>\n",
              "      <td>40</td>\n",
              "      <td>&lt;=50K</td>\n",
              "    </tr>\n",
              "    <tr>\n",
              "      <th>32559</th>\n",
              "      <td>22</td>\n",
              "      <td>Private</td>\n",
              "      <td>HS-grad</td>\n",
              "      <td>9</td>\n",
              "      <td>Never-married</td>\n",
              "      <td>Adm-clerical</td>\n",
              "      <td>Own-child</td>\n",
              "      <td>White</td>\n",
              "      <td>Male</td>\n",
              "      <td>20</td>\n",
              "      <td>&lt;=50K</td>\n",
              "    </tr>\n",
              "    <tr>\n",
              "      <th>32560</th>\n",
              "      <td>52</td>\n",
              "      <td>Self-emp-inc</td>\n",
              "      <td>HS-grad</td>\n",
              "      <td>9</td>\n",
              "      <td>Married-civ-spouse</td>\n",
              "      <td>Exec-managerial</td>\n",
              "      <td>Wife</td>\n",
              "      <td>White</td>\n",
              "      <td>Female</td>\n",
              "      <td>40</td>\n",
              "      <td>&gt;50K</td>\n",
              "    </tr>\n",
              "  </tbody>\n",
              "</table>\n",
              "<p>32561 rows × 11 columns</p>\n",
              "</div>"
            ],
            "text/plain": [
              "       age          workclass    education  ...      sex hours-per-week  income\n",
              "0       39          State-gov    Bachelors  ...     Male             40   <=50K\n",
              "1       50   Self-emp-not-inc    Bachelors  ...     Male             13   <=50K\n",
              "2       38            Private      HS-grad  ...     Male             40   <=50K\n",
              "3       53            Private         11th  ...     Male             40   <=50K\n",
              "4       28            Private    Bachelors  ...   Female             40   <=50K\n",
              "...    ...                ...          ...  ...      ...            ...     ...\n",
              "32556   27            Private   Assoc-acdm  ...   Female             38   <=50K\n",
              "32557   40            Private      HS-grad  ...     Male             40    >50K\n",
              "32558   58            Private      HS-grad  ...   Female             40   <=50K\n",
              "32559   22            Private      HS-grad  ...     Male             20   <=50K\n",
              "32560   52       Self-emp-inc      HS-grad  ...   Female             40    >50K\n",
              "\n",
              "[32561 rows x 11 columns]"
            ]
          },
          "metadata": {},
          "execution_count": 33
        }
      ]
    },
    {
      "cell_type": "code",
      "metadata": {
        "id": "iMyMw_9PmimQ"
      },
      "source": [
        "#Remove Whitespace from dataframe\n",
        "\n",
        "for column in data[[\"workclass\",\"education\",\"marital-status\",\"occupation\",\"race\",\"sex\"]]:\n",
        "    data[column] = data[column].str.strip()"
      ],
      "execution_count": 34,
      "outputs": []
    },
    {
      "cell_type": "code",
      "metadata": {
        "colab": {
          "base_uri": "https://localhost:8080/"
        },
        "id": "o2nHV-WdnM7D",
        "outputId": "a49cff9e-b832-4f25-afc1-eca87ac92ba9"
      },
      "source": [
        "#categorical values of workclass\n",
        "print(\"Unique values of workclass: \", data[\"workclass\"].unique())\n",
        "#categorical values of education\n",
        "print(\"Unique values of education: \", data[\"education\"].unique())\n",
        "#categorical values of marital status\n",
        "print(\"Unique values of marital status: \", data[\"marital-status\"].unique())\n",
        "#categorical values of occupation\n",
        "print(\"Unique values of occupation: \", data[\"occupation\"].unique())\n",
        "#categorical values of relationship\n",
        "print(\"Unique values of relationship: \", data[\"relationship\"].unique())\n",
        "#categorical values of race\n",
        "print(\"Unique values of race: \", data[\"race\"].unique())\n",
        "#categorical values of sex\n",
        "print(\"Unique values of sex: \", data[\"sex\"].unique())"
      ],
      "execution_count": 35,
      "outputs": [
        {
          "output_type": "stream",
          "name": "stdout",
          "text": [
            "Unique values of workclass:  ['State-gov' 'Self-emp-not-inc' 'Private' 'Federal-gov' 'Local-gov' '?'\n",
            " 'Self-emp-inc' 'Without-pay' 'Never-worked']\n",
            "Unique values of education:  ['Bachelors' 'HS-grad' '11th' 'Masters' '9th' 'Some-college' 'Assoc-acdm'\n",
            " 'Assoc-voc' '7th-8th' 'Doctorate' 'Prof-school' '5th-6th' '10th'\n",
            " '1st-4th' 'Preschool' '12th']\n",
            "Unique values of marital status:  ['Never-married' 'Married-civ-spouse' 'Divorced' 'Married-spouse-absent'\n",
            " 'Separated' 'Married-AF-spouse' 'Widowed']\n",
            "Unique values of occupation:  ['Adm-clerical' 'Exec-managerial' 'Handlers-cleaners' 'Prof-specialty'\n",
            " 'Other-service' 'Sales' 'Craft-repair' 'Transport-moving'\n",
            " 'Farming-fishing' 'Machine-op-inspct' 'Tech-support' '?'\n",
            " 'Protective-serv' 'Armed-Forces' 'Priv-house-serv']\n",
            "Unique values of relationship:  [' Not-in-family' ' Husband' ' Wife' ' Own-child' ' Unmarried'\n",
            " ' Other-relative']\n",
            "Unique values of race:  ['White' 'Black' 'Asian-Pac-Islander' 'Amer-Indian-Eskimo' 'Other']\n",
            "Unique values of sex:  ['Male' 'Female']\n"
          ]
        }
      ]
    },
    {
      "cell_type": "code",
      "metadata": {
        "id": "Dp_6EhF8oOt-"
      },
      "source": [
        "#workclass labels\n",
        "lb_workclass = preprocessing.LabelEncoder()\n",
        "lb_workclass.fit([\"Private\",\"Self-emp-not-inc\",\"Local-gov\",\"?\",\n",
        "                  \"State-gov\",\"Self-emp-inc\",\n",
        "                 \"Federal-gov\",\"Without-pay\",\"Never-worked\"])\n",
        "data.iloc[:,1] = lb_workclass.transform(data.iloc[:,1])\n",
        "\n",
        "#education labels\n",
        "lb_educ = preprocessing.LabelEncoder()\n",
        "lb_educ.fit([\"HS-grad\",\"Some-college\",\"Bachelors\",\"Masters\",\n",
        "             \"Assoc-voc\",\"11th\",\"Assoc-acdm\",\"10th\",\"7th-8th\",\"Prof-school\",\n",
        "             \"9th\",\"12th\",\"Doctorate\",\"5th-6th\",\"1st-4th\",\"Preschool\"])\n",
        "data.iloc[:,2] = lb_educ.transform(data.iloc[:,2])\n",
        "\n",
        "#marriage labels\n",
        "lb_marry = preprocessing.LabelEncoder()\n",
        "lb_marry.fit([\"Married-civ-spouse\",\"Never-married\",\"Divorced\",\"Separated\",\n",
        "              \"Widowed\",\"Married-spouse-absent\",\"Married-AF-spouse\"])\n",
        "data.iloc[:,4] = lb_marry.transform(data.iloc[:,4])\n",
        "\n",
        "#occupation labels\n",
        "lb_occ = preprocessing.LabelEncoder()\n",
        "lb_occ.fit(['Adm-clerical', 'Exec-managerial', 'Handlers-cleaners',\n",
        "       'Prof-specialty', 'Other-service', 'Sales', 'Craft-repair',\n",
        "       'Transport-moving', 'Farming-fishing', 'Machine-op-inspct',\n",
        "       'Tech-support', '?', 'Protective-serv', 'Armed-Forces',\n",
        "       'Priv-house-serv'])\n",
        "data.iloc[:,5] = lb_occ.transform(data.iloc[:,5])\n",
        "\n",
        "#relationship labels\n",
        "lb_rel = preprocessing.LabelEncoder()\n",
        "lb_rel.fit([' Not-in-family', ' Husband', ' Wife', ' Own-child', ' Unmarried',\n",
        "       ' Other-relative'])\n",
        "data.iloc[:,6] = lb_rel.transform(data.iloc[:,6])\n",
        "\n",
        "#race labels\n",
        "lb_race = preprocessing.LabelEncoder()\n",
        "lb_race.fit(['White', 'Black', 'Asian-Pac-Islander', 'Amer-Indian-Eskimo',\n",
        "       'Other'])\n",
        "data.iloc[:,7] = lb_race.transform(data.iloc[:,7])\n",
        "\n",
        "#gender labels\n",
        "lb_sex = preprocessing.LabelEncoder()\n",
        "lb_sex.fit(['Male', 'Female'])\n",
        "data.iloc[:,8] = lb_sex.transform(data.iloc[:,8])"
      ],
      "execution_count": 36,
      "outputs": []
    },
    {
      "cell_type": "code",
      "metadata": {
        "colab": {
          "base_uri": "https://localhost:8080/",
          "height": 300
        },
        "id": "o60cK67xo68A",
        "outputId": "3ca5d703-b77e-4bc0-db43-c1fecd4f5bf7"
      },
      "source": [
        "data.head(8)"
      ],
      "execution_count": 37,
      "outputs": [
        {
          "output_type": "execute_result",
          "data": {
            "text/html": [
              "<div>\n",
              "<style scoped>\n",
              "    .dataframe tbody tr th:only-of-type {\n",
              "        vertical-align: middle;\n",
              "    }\n",
              "\n",
              "    .dataframe tbody tr th {\n",
              "        vertical-align: top;\n",
              "    }\n",
              "\n",
              "    .dataframe thead th {\n",
              "        text-align: right;\n",
              "    }\n",
              "</style>\n",
              "<table border=\"1\" class=\"dataframe\">\n",
              "  <thead>\n",
              "    <tr style=\"text-align: right;\">\n",
              "      <th></th>\n",
              "      <th>age</th>\n",
              "      <th>workclass</th>\n",
              "      <th>education</th>\n",
              "      <th>education-num</th>\n",
              "      <th>marital-status</th>\n",
              "      <th>occupation</th>\n",
              "      <th>relationship</th>\n",
              "      <th>race</th>\n",
              "      <th>sex</th>\n",
              "      <th>hours-per-week</th>\n",
              "      <th>income</th>\n",
              "    </tr>\n",
              "  </thead>\n",
              "  <tbody>\n",
              "    <tr>\n",
              "      <th>0</th>\n",
              "      <td>39</td>\n",
              "      <td>7</td>\n",
              "      <td>9</td>\n",
              "      <td>13</td>\n",
              "      <td>4</td>\n",
              "      <td>1</td>\n",
              "      <td>1</td>\n",
              "      <td>4</td>\n",
              "      <td>1</td>\n",
              "      <td>40</td>\n",
              "      <td>&lt;=50K</td>\n",
              "    </tr>\n",
              "    <tr>\n",
              "      <th>1</th>\n",
              "      <td>50</td>\n",
              "      <td>6</td>\n",
              "      <td>9</td>\n",
              "      <td>13</td>\n",
              "      <td>2</td>\n",
              "      <td>4</td>\n",
              "      <td>0</td>\n",
              "      <td>4</td>\n",
              "      <td>1</td>\n",
              "      <td>13</td>\n",
              "      <td>&lt;=50K</td>\n",
              "    </tr>\n",
              "    <tr>\n",
              "      <th>2</th>\n",
              "      <td>38</td>\n",
              "      <td>4</td>\n",
              "      <td>11</td>\n",
              "      <td>9</td>\n",
              "      <td>0</td>\n",
              "      <td>6</td>\n",
              "      <td>1</td>\n",
              "      <td>4</td>\n",
              "      <td>1</td>\n",
              "      <td>40</td>\n",
              "      <td>&lt;=50K</td>\n",
              "    </tr>\n",
              "    <tr>\n",
              "      <th>3</th>\n",
              "      <td>53</td>\n",
              "      <td>4</td>\n",
              "      <td>1</td>\n",
              "      <td>7</td>\n",
              "      <td>2</td>\n",
              "      <td>6</td>\n",
              "      <td>0</td>\n",
              "      <td>2</td>\n",
              "      <td>1</td>\n",
              "      <td>40</td>\n",
              "      <td>&lt;=50K</td>\n",
              "    </tr>\n",
              "    <tr>\n",
              "      <th>4</th>\n",
              "      <td>28</td>\n",
              "      <td>4</td>\n",
              "      <td>9</td>\n",
              "      <td>13</td>\n",
              "      <td>2</td>\n",
              "      <td>10</td>\n",
              "      <td>5</td>\n",
              "      <td>2</td>\n",
              "      <td>0</td>\n",
              "      <td>40</td>\n",
              "      <td>&lt;=50K</td>\n",
              "    </tr>\n",
              "    <tr>\n",
              "      <th>5</th>\n",
              "      <td>37</td>\n",
              "      <td>4</td>\n",
              "      <td>12</td>\n",
              "      <td>14</td>\n",
              "      <td>2</td>\n",
              "      <td>4</td>\n",
              "      <td>5</td>\n",
              "      <td>4</td>\n",
              "      <td>0</td>\n",
              "      <td>40</td>\n",
              "      <td>&lt;=50K</td>\n",
              "    </tr>\n",
              "    <tr>\n",
              "      <th>6</th>\n",
              "      <td>49</td>\n",
              "      <td>4</td>\n",
              "      <td>6</td>\n",
              "      <td>5</td>\n",
              "      <td>3</td>\n",
              "      <td>8</td>\n",
              "      <td>1</td>\n",
              "      <td>2</td>\n",
              "      <td>0</td>\n",
              "      <td>16</td>\n",
              "      <td>&lt;=50K</td>\n",
              "    </tr>\n",
              "    <tr>\n",
              "      <th>7</th>\n",
              "      <td>52</td>\n",
              "      <td>6</td>\n",
              "      <td>11</td>\n",
              "      <td>9</td>\n",
              "      <td>2</td>\n",
              "      <td>4</td>\n",
              "      <td>0</td>\n",
              "      <td>4</td>\n",
              "      <td>1</td>\n",
              "      <td>45</td>\n",
              "      <td>&gt;50K</td>\n",
              "    </tr>\n",
              "  </tbody>\n",
              "</table>\n",
              "</div>"
            ],
            "text/plain": [
              "   age  workclass  education  education-num  ...  race  sex  hours-per-week  income\n",
              "0   39          7          9             13  ...     4    1              40   <=50K\n",
              "1   50          6          9             13  ...     4    1              13   <=50K\n",
              "2   38          4         11              9  ...     4    1              40   <=50K\n",
              "3   53          4          1              7  ...     2    1              40   <=50K\n",
              "4   28          4          9             13  ...     2    0              40   <=50K\n",
              "5   37          4         12             14  ...     4    0              40   <=50K\n",
              "6   49          4          6              5  ...     2    0              16   <=50K\n",
              "7   52          6         11              9  ...     4    1              45    >50K\n",
              "\n",
              "[8 rows x 11 columns]"
            ]
          },
          "metadata": {},
          "execution_count": 37
        }
      ]
    },
    {
      "cell_type": "code",
      "metadata": {
        "id": "Q2QaBobFpE1c"
      },
      "source": [
        "X=data.iloc[:,:-1]\n",
        "y=data[[\"income\"]]"
      ],
      "execution_count": 38,
      "outputs": []
    },
    {
      "cell_type": "markdown",
      "metadata": {
        "id": "ssKSYP0PpHwG"
      },
      "source": [
        "# Train/Test split"
      ]
    },
    {
      "cell_type": "code",
      "metadata": {
        "colab": {
          "base_uri": "https://localhost:8080/"
        },
        "id": "bZoqtCwMpR9n",
        "outputId": "2cf8fcf9-3995-4e68-839f-85f486f7e011"
      },
      "source": [
        "X_train,X_test,y_train,y_test = train_test_split(X,y,test_size=0.2,random_state=4)\n",
        "\n",
        "print(\"Size of train set:\", X_train.shape, y_train.shape)\n",
        "print(\"Size of test set: \", X_test.shape, y_test.shape)"
      ],
      "execution_count": 39,
      "outputs": [
        {
          "output_type": "stream",
          "name": "stdout",
          "text": [
            "Size of train set: (26048, 10) (26048, 1)\n",
            "Size of test set:  (6513, 10) (6513, 1)\n"
          ]
        }
      ]
    },
    {
      "cell_type": "markdown",
      "metadata": {
        "id": "HQPkzsHOv3Xd"
      },
      "source": [
        "# Decision Tree"
      ]
    },
    {
      "cell_type": "code",
      "metadata": {
        "colab": {
          "base_uri": "https://localhost:8080/"
        },
        "id": "L7vw-uh2wBiq",
        "outputId": "0ac107a8-48c7-479a-fc75-01cbce3f4d87"
      },
      "source": [
        "incomeGuess = DecisionTreeClassifier(criterion=\"entropy\",max_depth=4)\n",
        "incomeGuess"
      ],
      "execution_count": 40,
      "outputs": [
        {
          "output_type": "execute_result",
          "data": {
            "text/plain": [
              "DecisionTreeClassifier(ccp_alpha=0.0, class_weight=None, criterion='entropy',\n",
              "                       max_depth=4, max_features=None, max_leaf_nodes=None,\n",
              "                       min_impurity_decrease=0.0, min_impurity_split=None,\n",
              "                       min_samples_leaf=1, min_samples_split=2,\n",
              "                       min_weight_fraction_leaf=0.0, presort='deprecated',\n",
              "                       random_state=None, splitter='best')"
            ]
          },
          "metadata": {},
          "execution_count": 40
        }
      ]
    },
    {
      "cell_type": "code",
      "metadata": {
        "colab": {
          "base_uri": "https://localhost:8080/"
        },
        "id": "7-wauszowNJ_",
        "outputId": "8984a9ac-58db-4991-eff9-5db821cb085b"
      },
      "source": [
        "incomeGuess.fit(X_train,y_train)"
      ],
      "execution_count": 41,
      "outputs": [
        {
          "output_type": "execute_result",
          "data": {
            "text/plain": [
              "DecisionTreeClassifier(ccp_alpha=0.0, class_weight=None, criterion='entropy',\n",
              "                       max_depth=4, max_features=None, max_leaf_nodes=None,\n",
              "                       min_impurity_decrease=0.0, min_impurity_split=None,\n",
              "                       min_samples_leaf=1, min_samples_split=2,\n",
              "                       min_weight_fraction_leaf=0.0, presort='deprecated',\n",
              "                       random_state=None, splitter='best')"
            ]
          },
          "metadata": {},
          "execution_count": 41
        }
      ]
    },
    {
      "cell_type": "code",
      "metadata": {
        "id": "FKJ4lHMNwcKY"
      },
      "source": [
        "predict_income = incomeGuess.predict(X_test)"
      ],
      "execution_count": 42,
      "outputs": []
    },
    {
      "cell_type": "code",
      "metadata": {
        "colab": {
          "base_uri": "https://localhost:8080/"
        },
        "id": "rLjwbxe3wjIM",
        "outputId": "dc8580f1-e6d5-482b-d626-c3284bf46dde"
      },
      "source": [
        "## Evaluation\n",
        "print(\"Accuracy of decision tree model regarding to income prediction: \", metrics.accuracy_score(y_test,predict_income))"
      ],
      "execution_count": 43,
      "outputs": [
        {
          "output_type": "stream",
          "name": "stdout",
          "text": [
            "Accuracy of decision tree model regarding to income prediction:  0.8249654537079687\n"
          ]
        }
      ]
    },
    {
      "cell_type": "markdown",
      "metadata": {
        "id": "zuLJSUjMxDiu"
      },
      "source": [
        "# KNN"
      ]
    },
    {
      "cell_type": "code",
      "metadata": {
        "colab": {
          "base_uri": "https://localhost:8080/"
        },
        "id": "EbzUvU1IxIbw",
        "outputId": "fb40ee92-9338-4228-c929-85b8eb373341"
      },
      "source": [
        "for i in range(1,11):\n",
        "    #Train the model\n",
        "    neigh=KNeighborsClassifier(n_neighbors=i).fit(X_train,np.ravel(y_train))\n",
        "    y_pred=neigh.predict(X_test)\n",
        "    acc=metrics.accuracy_score(y_test,y_pred)\n",
        "    print(i,acc)"
      ],
      "execution_count": 48,
      "outputs": [
        {
          "output_type": "stream",
          "name": "stdout",
          "text": [
            "1 0.7707661599877169\n",
            "2 0.7947182557961001\n",
            "3 0.7907262398280362\n",
            "4 0.8051589129433441\n",
            "5 0.7970213419315215\n",
            "6 0.8080761553815446\n",
            "7 0.7962536465530478\n",
            "8 0.8046982957162598\n",
            "9 0.8031629049593122\n",
            "10 0.8051589129433441\n"
          ]
        }
      ]
    },
    {
      "cell_type": "code",
      "metadata": {
        "id": "m7uMGq1sz9yH"
      },
      "source": [
        "log_r = LogisticRegression(C=0.01,solver=\"liblinear\").fit(X_train,np.ravel(y_train))"
      ],
      "execution_count": 49,
      "outputs": []
    },
    {
      "cell_type": "code",
      "metadata": {
        "colab": {
          "base_uri": "https://localhost:8080/"
        },
        "id": "tQkzV5fe0EoK",
        "outputId": "9007fc14-b44e-4f22-b5a0-4a9e8e38a00b"
      },
      "source": [
        "y_hat = log_r.predict(X_test)\n",
        "y_hat"
      ],
      "execution_count": 50,
      "outputs": [
        {
          "output_type": "execute_result",
          "data": {
            "text/plain": [
              "array([' <=50K', ' <=50K', ' >50K', ..., ' <=50K', ' <=50K', ' <=50K'],\n",
              "      dtype=object)"
            ]
          },
          "metadata": {},
          "execution_count": 50
        }
      ]
    },
    {
      "cell_type": "code",
      "metadata": {
        "colab": {
          "base_uri": "https://localhost:8080/"
        },
        "id": "rkOUcao70Y1i",
        "outputId": "8c32c3e8-f197-4fdd-8640-659bd3893dc2"
      },
      "source": [
        "con_mat = confusion_matrix(y_test,y_hat)\n",
        "total_accuracy = (con_mat[0, 0] + con_mat[1, 1]) / float(np.sum(con_mat))\n",
        "print(con_mat)\n",
        "print('Total accuracy of income model: %.2f' % total_accuracy)"
      ],
      "execution_count": 51,
      "outputs": [
        {
          "output_type": "stream",
          "name": "stdout",
          "text": [
            "[[4677  295]\n",
            " [ 943  598]]\n",
            "Total accuracy of income model: 0.81\n"
          ]
        }
      ]
    },
    {
      "cell_type": "markdown",
      "metadata": {
        "id": "wXt4ng5F0lx3"
      },
      "source": [
        "# Naive Bayes Classification"
      ]
    },
    {
      "cell_type": "code",
      "metadata": {
        "colab": {
          "base_uri": "https://localhost:8080/"
        },
        "id": "yuDhvy-Q0uzp",
        "outputId": "86900c78-1d37-495f-a53e-ac14e4a54489"
      },
      "source": [
        "clf = DecisionTreeClassifier(max_depth=5).fit(X_train, y_train)\n",
        "print('Training Score: {:.2f}'.format(clf.score(X_train, y_train)))\n",
        "print('Testing Score: {:.2f}'.format(clf.score(X_test, y_test)))\n",
        "\n",
        "scaler = StandardScaler()\n",
        "scaler.fit(X_train)\n",
        "x_test_scaled = scaler.transform(X_test)\n",
        "y_pred_n  = clf.predict(x_test_scaled)\n",
        "nb = naive_bayes.GaussianNB()\n",
        "nb.fit(X_train, y_train)\n",
        "nb_acc = 100*nb.score(X_test, y_test)\n",
        "print('Naive Bayes Predictions: \\n', nb.predict(X_test), '\\n Accuracy:', nb_acc, '%')\n"
      ],
      "execution_count": 54,
      "outputs": [
        {
          "output_type": "stream",
          "name": "stdout",
          "text": [
            "Training Score: 0.82\n",
            "Testing Score: 0.83\n",
            "Naive Bayes Predictions: \n",
            " [' <=50K' ' >50K' ' >50K' ... ' <=50K' ' <=50K' ' <=50K'] \n",
            " Accuracy: 77.09196990634116 %\n"
          ]
        },
        {
          "output_type": "stream",
          "name": "stderr",
          "text": [
            "/usr/local/lib/python3.7/dist-packages/sklearn/naive_bayes.py:206: DataConversionWarning: A column-vector y was passed when a 1d array was expected. Please change the shape of y to (n_samples, ), for example using ravel().\n",
            "  y = column_or_1d(y, warn=True)\n"
          ]
        }
      ]
    }
  ]
}